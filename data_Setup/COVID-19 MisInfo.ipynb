{
 "metadata": {
  "language_info": {
   "codemirror_mode": {
    "name": "ipython",
    "version": 3
   },
   "file_extension": ".py",
   "mimetype": "text/x-python",
   "name": "python",
   "nbconvert_exporter": "python",
   "pygments_lexer": "ipython3",
   "version": "3.8.5"
  },
  "orig_nbformat": 2,
  "kernelspec": {
   "name": "python385jvsc74a57bd0f75a9282ee99a11f826925642de48906527c18a3d4f2ae6e4d1ac459249e0f17",
   "display_name": "Python 3.8.5 64-bit ('DataManipulation': conda)"
  }
 },
 "nbformat": 4,
 "nbformat_minor": 2,
 "cells": [
  {
   "cell_type": "code",
   "execution_count": 112,
   "metadata": {},
   "outputs": [],
   "source": [
    "from pathlib import Path\r\n",
    "import sys\r\n",
    "import os\r\n",
    "import pandas as pd\r\n",
    "import re\r\n",
    "import os\r\n"
   ]
  },
  {
   "source": [
    "Fakes"
   ],
   "cell_type": "markdown",
   "metadata": {}
  },
  {
   "cell_type": "code",
   "execution_count": 113,
   "metadata": {},
   "outputs": [],
   "source": [
    "df1 = pd.DataFrame()\n",
    "df2 = pd.DataFrame()\n",
    "dir_path = os.path.join(os.path.join(Path().resolve().parent, r\"datasets_raw\\covid1\"))"
   ]
  },
  {
   "cell_type": "code",
   "execution_count": 114,
   "metadata": {
    "tags": []
   },
   "outputs": [],
   "source": [
    "for subdir, dirs, files in os.walk(dir_path):\n",
    "    for file in files:\n",
    "        if re.match(\".*Real.*tweets_replies.*\", file):\n",
    "            temp = pd.read_csv(os.path.join(subdir,file), usecols=['tweet_id', 'reply_id'])\n",
    "            df1 = pd.concat([df1, temp])\n",
    "        elif re.match(\".*Real.*tweets\\.csv\", file):\n",
    "            temp = pd.read_csv(os.path.join(subdir,file), usecols=['tweet_id'])\n",
    "            df2 = pd.concat([df2, temp])\n",
    "\n",
    "                \n",
    "result = pd.merge(df1, df2, how=\"outer\")"
   ]
  },
  {
   "cell_type": "code",
   "execution_count": 120,
   "metadata": {},
   "outputs": [],
   "source": [
    "result.to_csv(os.path.join(Path().resolve().parent, r\"datasets_stiched\\covid1_real_tweets.csv\"))"
   ]
  },
  {
   "cell_type": "code",
   "execution_count": 121,
   "metadata": {},
   "outputs": [],
   "source": [
    "df1 = pd.DataFrame()\n",
    "df2 = pd.DataFrame()\n",
    "dir_path = os.path.join(os.path.join(Path().resolve().parent, r\"datasets_raw\\covid1\"))"
   ]
  },
  {
   "cell_type": "code",
   "execution_count": 122,
   "metadata": {},
   "outputs": [],
   "source": [
    "for subdir, dirs, files in os.walk(dir_path):\n",
    "    for file in files:\n",
    "        if re.match(\".*Fake.*tweets_replies.*\", file):\n",
    "            temp = pd.read_csv(os.path.join(subdir,file), usecols=['tweet_id', 'reply_id'])\n",
    "            df1 = pd.concat([df1, temp])\n",
    "        elif re.match(\".*Fake.*tweets\\.csv\", file):\n",
    "            temp = pd.read_csv(os.path.join(subdir,file), usecols=['tweet_id'])\n",
    "            df2 = pd.concat([df2, temp])\n",
    "\n",
    "                \n",
    "result = pd.merge(df1, df2, how=\"outer\")"
   ]
  },
  {
   "cell_type": "code",
   "execution_count": 123,
   "metadata": {},
   "outputs": [],
   "source": [
    "result.to_csv(os.path.join(Path().resolve().parent, r\"datasets_stiched\\covid1_fake_tweets.csv\"))"
   ]
  },
  {
   "cell_type": "code",
   "execution_count": null,
   "metadata": {},
   "outputs": [],
   "source": []
  }
 ]
}