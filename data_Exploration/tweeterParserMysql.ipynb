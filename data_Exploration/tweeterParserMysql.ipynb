{
 "metadata": {
  "language_info": {
   "codemirror_mode": {
    "name": "ipython",
    "version": 3
   },
   "file_extension": ".py",
   "mimetype": "text/x-python",
   "name": "python",
   "nbconvert_exporter": "python",
   "pygments_lexer": "ipython3",
   "version": "3.8.10"
  },
  "orig_nbformat": 2,
  "kernelspec": {
   "name": "python3810jvsc74a57bd020db2249124e18b25fff58d0fcb4d34b9c3f3ad3725b69b3380f71d10fc6b82a",
   "display_name": "Python 3.8.10 64-bit ('BigData': conda)"
  },
  "metadata": {
   "interpreter": {
    "hash": "20db2249124e18b25fff58d0fcb4d34b9c3f3ad3725b69b3380f71d10fc6b82a"
   }
  }
 },
 "nbformat": 4,
 "nbformat_minor": 2,
 "cells": [
  {
   "cell_type": "code",
   "execution_count": 2,
   "metadata": {},
   "outputs": [
    {
     "output_type": "execute_result",
     "data": {
      "text/plain": [
       "True"
      ]
     },
     "metadata": {},
     "execution_count": 2
    }
   ],
   "source": [
    "import tweepy\n",
    "import time\n",
    "import sqlite3\n",
    "from contextlib import closing\n",
    "import time\n",
    "from tweepy import TweepError\n",
    "import os\n",
    "from dotenv import load_dotenv\n",
    "from mysql.connector import connect, Error\n",
    "load_dotenv()"
   ]
  },
  {
   "cell_type": "code",
   "execution_count": 3,
   "metadata": {},
   "outputs": [],
   "source": [
    "consumer_key= os.getenv('consumer_key')\n",
    "consumer_secret = os.getenv('consumer_secret')\n",
    "access_token = os.getenv('access_token')\n",
    "access_token_secret = os.getenv('access_token_secret')"
   ]
  },
  {
   "cell_type": "code",
   "execution_count": 4,
   "metadata": {},
   "outputs": [],
   "source": [
    "auth = tweepy.OAuthHandler(consumer_key, consumer_secret)\n",
    "auth.set_access_token(access_token, access_token_secret)\n",
    "\n",
    "api = tweepy.API(auth, wait_on_rate_limit=True, wait_on_rate_limit_notify=True)"
   ]
  },
  {
   "source": [
    "id_lst =[]\n",
    "single_call_count = 0\n",
    "single_call_limit = 5\n",
    "total_limit_count = 0\n",
    "total_limit_requests = 899\n",
    "count = 1"
   ],
   "cell_type": "code",
   "metadata": {},
   "execution_count": 5,
   "outputs": []
  },
  {
   "cell_type": "code",
   "execution_count": 6,
   "metadata": {},
   "outputs": [],
   "source": [
    "def packaging_data_for_update(hydrated_tweets):\n",
    "    list_to_update = []\n",
    "    good_set = set()\n",
    "    for tweet in hydrated_tweets:\n",
    "        try:\n",
    "            text = tweet.retweeted_status.full_text\n",
    "        except AttributeError:\n",
    "            text = tweet.full_text\n",
    "        Created_at = tweet.created_at\n",
    "        location = tweet.user.location\n",
    "        followers_count = int(tweet.user.followers_count)\n",
    "        tweet_id = int(tweet.id)\n",
    "        good_set.add(int(tweet_id))\n",
    "        User_id = int(tweet.user.id)\n",
    "        try:\n",
    "            RT = tweet.retweeted_status.id\n",
    "        except AttributeError:\n",
    "            RT = 'False'\n",
    "        try:\n",
    "            retweet_count = tweet.retweeted_status.retweet_count\n",
    "        except AttributeError:\n",
    "            retweet_count = tweet.retweet_count\n",
    "        list_to_update.append([Created_at, location, followers_count, RT, User_id, text, retweet_count, tweet_id])\n",
    "    return list_to_update, good_set"
   ]
  },
  {
   "cell_type": "code",
   "execution_count": 6,
   "metadata": {
    "tags": []
   },
   "outputs": [
    {
     "output_type": "stream",
     "name": "stderr",
     "text": [
      "Rate limit reached. Sleeping for: 54\n",
      "Fetching : 1 calls made\n",
      "Fetching : 2 calls made\n",
      "Fetching : 3 calls made\n",
      "Fetching : 4 calls made\n",
      "Fetching : 5 calls made\n",
      "Fetching : 6 calls made\n",
      "Fetching : 7 calls made\n",
      "Fetching : 8 calls made\n",
      "Fetching : 9 calls made\n",
      "Fetching : 10 calls made\n",
      "Fetching : 11 calls made\n",
      "Fetching : 12 calls made\n",
      "Fetching : 13 calls made\n",
      "Fetching : 14 calls made\n",
      "Fetching : 15 calls made\n",
      "Fetching : 16 calls made\n",
      "Fetching : 17 calls made\n",
      "Fetching : 18 calls made\n",
      "Fetching : 19 calls made\n",
      "Fetching : 20 calls made\n",
      "Fetching : 21 calls made\n",
      "Fetching : 22 calls made\n",
      "Fetching : 23 calls made\n",
      "Fetching : 24 calls made\n",
      "Fetching : 25 calls made\n",
      "Fetching : 26 calls made\n",
      "Fetching : 27 calls made\n",
      "Fetching : 28 calls made\n",
      "Fetching : 29 calls made\n",
      "Fetching : 30 calls made\n",
      "Fetching : 31 calls made\n",
      "Fetching : 32 calls made\n",
      "Fetching : 33 calls made\n",
      "Fetching : 34 calls made\n",
      "Fetching : 35 calls made\n",
      "Fetching : 36 calls made\n",
      "Fetching : 37 calls made\n",
      "Fetching : 38 calls made\n",
      "Fetching : 39 calls made\n",
      "Fetching : 40 calls made\n",
      "Fetching : 41 calls made\n",
      "Fetching : 42 calls made\n",
      "Fetching : 43 calls made\n",
      "Fetching : 44 calls made\n",
      "Fetching : 45 calls made\n",
      "Fetching : 46 calls made\n",
      "Fetching : 47 calls made\n",
      "Fetching : 48 calls made\n",
      "Fetching : 49 calls made\n",
      "Fetching : 50 calls made\n",
      "Fetching : 51 calls made\n",
      "Fetching : 52 calls made\n",
      "Fetching : 53 calls made\n",
      "Fetching : 54 calls made\n",
      "Fetching : 55 calls made\n",
      "Fetching : 56 calls made\n",
      "Fetching : 57 calls made\n",
      "Fetching : 58 calls made\n",
      "Fetching : 59 calls made\n",
      "Fetching : 60 calls made\n",
      "Fetching : 61 calls made\n",
      "Fetching : 62 calls made\n",
      "Fetching : 63 calls made\n",
      "Fetching : 64 calls made\n",
      "Fetching : 65 calls made\n",
      "Fetching : 66 calls made\n",
      "Fetching : 67 calls made\n",
      "Fetching : 68 calls made\n",
      "Fetching : 69 calls made\n",
      "Fetching : 70 calls made\n",
      "Fetching : 71 calls made\n",
      "Fetching : 72 calls made\n",
      "Fetching : 73 calls made\n",
      "Fetching : 74 calls made\n",
      "Fetching : 75 calls made\n",
      "Fetching : 76 calls made\n",
      "Fetching : 77 calls made\n",
      "Fetching : 78 calls made\n",
      "Fetching : 79 calls made\n",
      "Fetching : 80 calls made\n",
      "Fetching : 81 calls made\n",
      "Fetching : 82 calls made\n",
      "Fetching : 83 calls made\n",
      "Fetching : 84 calls made\n",
      "Fetching : 85 calls made\n",
      "Fetching : 86 calls made\n",
      "Fetching : 87 calls made\n",
      "Fetching : 88 calls made\n",
      "Fetching : 89 calls made\n",
      "Fetching : 90 calls made\n",
      "Fetching : 91 calls made\n",
      "Fetching : 92 calls made\n",
      "Fetching : 93 calls made\n",
      "Fetching : 94 calls made\n",
      "Fetching : 95 calls made\n",
      "Fetching : 96 calls made\n",
      "Fetching : 97 calls made\n",
      "Fetching : 98 calls made\n",
      "Fetching : 99 calls made\n",
      "Fetching : 100 calls made\n",
      "Fetching : 101 calls made\n",
      "Fetching : 102 calls made\n",
      "Fetching : 103 calls made\n",
      "Fetching : 104 calls made\n",
      "Fetching : 105 calls made\n",
      "Fetching : 106 calls made\n",
      "Fetching : 107 calls made\n",
      "Fetching : 108 calls made\n",
      "Fetching : 109 calls made\n",
      "Fetching : 110 calls made\n",
      "Fetching : 111 calls made\n",
      "Fetching : 112 calls made\n",
      "Fetching : 113 calls made\n",
      "Fetching : 114 calls made\n",
      "Fetching : 115 calls made\n",
      "Fetching : 116 calls made\n",
      "Fetching : 117 calls made\n",
      "Fetching : 118 calls made\n",
      "Fetching : 119 calls made\n",
      "Fetching : 120 calls made\n",
      "Fetching : 121 calls made\n",
      "Fetching : 122 calls made\n",
      "Fetching : 123 calls made\n",
      "Fetching : 124 calls made\n",
      "Fetching : 125 calls made\n",
      "Fetching : 126 calls made\n",
      "Fetching : 127 calls made\n",
      "Fetching : 128 calls made\n",
      "Fetching : 129 calls made\n",
      "Fetching : 130 calls made\n",
      "Fetching : 131 calls made\n",
      "Fetching : 132 calls made\n"
     ]
    },
    {
     "output_type": "error",
     "ename": "InternalError",
     "evalue": "Unread result found",
     "traceback": [
      "\u001b[1;31m---------------------------------------------------------------------------\u001b[0m",
      "\u001b[1;31mDatabaseError\u001b[0m                             Traceback (most recent call last)",
      "\u001b[1;32m<ipython-input-6-fb2bc472adf8>\u001b[0m in \u001b[0;36m<module>\u001b[1;34m\u001b[0m\n\u001b[0;32m     16\u001b[0m                     \u001b[1;32mwith\u001b[0m \u001b[0mclosing\u001b[0m\u001b[1;33m(\u001b[0m\u001b[0mcnxn1\u001b[0m\u001b[1;33m.\u001b[0m\u001b[0mcursor\u001b[0m\u001b[1;33m(\u001b[0m\u001b[0mbuffered\u001b[0m\u001b[1;33m=\u001b[0m\u001b[1;32mTrue\u001b[0m\u001b[1;33m)\u001b[0m\u001b[1;33m)\u001b[0m \u001b[1;32mas\u001b[0m \u001b[0mcursorUpdater\u001b[0m\u001b[1;33m:\u001b[0m\u001b[1;33m\u001b[0m\u001b[1;33m\u001b[0m\u001b[0m\n\u001b[1;32m---> 17\u001b[1;33m                         \u001b[0mcursorUpdater\u001b[0m\u001b[1;33m.\u001b[0m\u001b[0mexecutemany\u001b[0m\u001b[1;33m(\u001b[0m\u001b[1;34m'update Sentiment set Created_at = %s, location = %s, followers_count = %s, Original_tweet = %s, User_id = %s, Content = %s, Retweet_count = %s, Fetched = \"Yes\" where Tweet_ID = %s'\u001b[0m\u001b[1;33m,\u001b[0m \u001b[0mpackaged_info\u001b[0m\u001b[1;33m)\u001b[0m\u001b[1;33m\u001b[0m\u001b[1;33m\u001b[0m\u001b[0m\n\u001b[0m\u001b[0;32m     18\u001b[0m                         \u001b[0mcursorUpdater\u001b[0m\u001b[1;33m.\u001b[0m\u001b[0mexecutemany\u001b[0m\u001b[1;33m(\u001b[0m\u001b[1;34m'update Sentiment set Fetched = \"Yes\" where Tweet_ID = %s'\u001b[0m\u001b[1;33m,\u001b[0m \u001b[1;33m[\u001b[0m\u001b[1;33m[\u001b[0m\u001b[0mtweet\u001b[0m\u001b[1;33m]\u001b[0m \u001b[1;32mfor\u001b[0m \u001b[0mtweet\u001b[0m \u001b[1;32min\u001b[0m \u001b[0mset\u001b[0m\u001b[1;33m(\u001b[0m\u001b[0mid_lst\u001b[0m\u001b[1;33m)\u001b[0m \u001b[1;33m-\u001b[0m \u001b[0mgood_set\u001b[0m\u001b[1;33m]\u001b[0m\u001b[1;33m)\u001b[0m\u001b[1;33m\u001b[0m\u001b[1;33m\u001b[0m\u001b[0m\n",
      "\u001b[1;32m~\\anaconda3\\envs\\BigData\\lib\\site-packages\\mysql\\connector\\cursor.py\u001b[0m in \u001b[0;36mexecutemany\u001b[1;34m(self, operation, seq_params)\u001b[0m\n\u001b[0;32m    674\u001b[0m             \u001b[1;32mfor\u001b[0m \u001b[0mparams\u001b[0m \u001b[1;32min\u001b[0m \u001b[0mseq_params\u001b[0m\u001b[1;33m:\u001b[0m\u001b[1;33m\u001b[0m\u001b[1;33m\u001b[0m\u001b[0m\n\u001b[1;32m--> 675\u001b[1;33m                 \u001b[0mself\u001b[0m\u001b[1;33m.\u001b[0m\u001b[0mexecute\u001b[0m\u001b[1;33m(\u001b[0m\u001b[0moperation\u001b[0m\u001b[1;33m,\u001b[0m \u001b[0mparams\u001b[0m\u001b[1;33m)\u001b[0m\u001b[1;33m\u001b[0m\u001b[1;33m\u001b[0m\u001b[0m\n\u001b[0m\u001b[0;32m    676\u001b[0m                 \u001b[1;32mif\u001b[0m \u001b[0mself\u001b[0m\u001b[1;33m.\u001b[0m\u001b[0mwith_rows\u001b[0m \u001b[1;32mand\u001b[0m \u001b[0mself\u001b[0m\u001b[1;33m.\u001b[0m\u001b[0m_have_unread_result\u001b[0m\u001b[1;33m(\u001b[0m\u001b[1;33m)\u001b[0m\u001b[1;33m:\u001b[0m\u001b[1;33m\u001b[0m\u001b[1;33m\u001b[0m\u001b[0m\n",
      "\u001b[1;32m~\\anaconda3\\envs\\BigData\\lib\\site-packages\\mysql\\connector\\cursor.py\u001b[0m in \u001b[0;36mexecute\u001b[1;34m(self, operation, params, multi)\u001b[0m\n\u001b[0;32m    567\u001b[0m         \u001b[1;32mtry\u001b[0m\u001b[1;33m:\u001b[0m\u001b[1;33m\u001b[0m\u001b[1;33m\u001b[0m\u001b[0m\n\u001b[1;32m--> 568\u001b[1;33m             \u001b[0mself\u001b[0m\u001b[1;33m.\u001b[0m\u001b[0m_handle_result\u001b[0m\u001b[1;33m(\u001b[0m\u001b[0mself\u001b[0m\u001b[1;33m.\u001b[0m\u001b[0m_connection\u001b[0m\u001b[1;33m.\u001b[0m\u001b[0mcmd_query\u001b[0m\u001b[1;33m(\u001b[0m\u001b[0mstmt\u001b[0m\u001b[1;33m)\u001b[0m\u001b[1;33m)\u001b[0m\u001b[1;33m\u001b[0m\u001b[1;33m\u001b[0m\u001b[0m\n\u001b[0m\u001b[0;32m    569\u001b[0m         \u001b[1;32mexcept\u001b[0m \u001b[0merrors\u001b[0m\u001b[1;33m.\u001b[0m\u001b[0mInterfaceError\u001b[0m\u001b[1;33m:\u001b[0m\u001b[1;33m\u001b[0m\u001b[1;33m\u001b[0m\u001b[0m\n",
      "\u001b[1;32m~\\anaconda3\\envs\\BigData\\lib\\site-packages\\mysql\\connector\\connection.py\u001b[0m in \u001b[0;36mcmd_query\u001b[1;34m(self, query, raw, buffered, raw_as_string)\u001b[0m\n\u001b[0;32m    685\u001b[0m         \u001b[1;32mtry\u001b[0m\u001b[1;33m:\u001b[0m\u001b[1;33m\u001b[0m\u001b[1;33m\u001b[0m\u001b[0m\n\u001b[1;32m--> 686\u001b[1;33m             \u001b[0mresult\u001b[0m \u001b[1;33m=\u001b[0m \u001b[0mself\u001b[0m\u001b[1;33m.\u001b[0m\u001b[0m_handle_result\u001b[0m\u001b[1;33m(\u001b[0m\u001b[0mself\u001b[0m\u001b[1;33m.\u001b[0m\u001b[0m_send_cmd\u001b[0m\u001b[1;33m(\u001b[0m\u001b[0mServerCmd\u001b[0m\u001b[1;33m.\u001b[0m\u001b[0mQUERY\u001b[0m\u001b[1;33m,\u001b[0m \u001b[0mquery\u001b[0m\u001b[1;33m)\u001b[0m\u001b[1;33m)\u001b[0m\u001b[1;33m\u001b[0m\u001b[1;33m\u001b[0m\u001b[0m\n\u001b[0m\u001b[0;32m    687\u001b[0m         \u001b[1;32mexcept\u001b[0m \u001b[0merrors\u001b[0m\u001b[1;33m.\u001b[0m\u001b[0mProgrammingError\u001b[0m \u001b[1;32mas\u001b[0m \u001b[0merr\u001b[0m\u001b[1;33m:\u001b[0m\u001b[1;33m\u001b[0m\u001b[1;33m\u001b[0m\u001b[0m\n",
      "\u001b[1;32m~\\anaconda3\\envs\\BigData\\lib\\site-packages\\mysql\\connector\\connection.py\u001b[0m in \u001b[0;36m_handle_result\u001b[1;34m(self, packet)\u001b[0m\n\u001b[0;32m    572\u001b[0m         \u001b[1;32melif\u001b[0m \u001b[0mpacket\u001b[0m\u001b[1;33m[\u001b[0m\u001b[1;36m4\u001b[0m\u001b[1;33m]\u001b[0m \u001b[1;33m==\u001b[0m \u001b[1;36m255\u001b[0m\u001b[1;33m:\u001b[0m\u001b[1;33m\u001b[0m\u001b[1;33m\u001b[0m\u001b[0m\n\u001b[1;32m--> 573\u001b[1;33m             \u001b[1;32mraise\u001b[0m \u001b[0merrors\u001b[0m\u001b[1;33m.\u001b[0m\u001b[0mget_exception\u001b[0m\u001b[1;33m(\u001b[0m\u001b[0mpacket\u001b[0m\u001b[1;33m)\u001b[0m\u001b[1;33m\u001b[0m\u001b[1;33m\u001b[0m\u001b[0m\n\u001b[0m\u001b[0;32m    574\u001b[0m \u001b[1;33m\u001b[0m\u001b[0m\n",
      "\u001b[1;31mDatabaseError\u001b[0m: 1265 (01000): Data truncated for column 'Original_tweet' at row 1",
      "\nDuring handling of the above exception, another exception occurred:\n",
      "\u001b[1;31mInternalError\u001b[0m                             Traceback (most recent call last)",
      "\u001b[1;32m<ipython-input-6-fb2bc472adf8>\u001b[0m in \u001b[0;36m<module>\u001b[1;34m\u001b[0m\n\u001b[0;32m     23\u001b[0m             \u001b[1;32melse\u001b[0m\u001b[1;33m:\u001b[0m\u001b[1;33m\u001b[0m\u001b[1;33m\u001b[0m\u001b[0m\n\u001b[0;32m     24\u001b[0m                 \u001b[0msingle_call_count\u001b[0m \u001b[1;33m+=\u001b[0m \u001b[1;36m1\u001b[0m\u001b[1;33m\u001b[0m\u001b[1;33m\u001b[0m\u001b[0m\n\u001b[1;32m---> 25\u001b[1;33m                 \u001b[0mid_lst\u001b[0m\u001b[1;33m.\u001b[0m\u001b[0mappend\u001b[0m\u001b[1;33m(\u001b[0m\u001b[0mrow\u001b[0m\u001b[1;33m[\u001b[0m\u001b[1;36m0\u001b[0m\u001b[1;33m]\u001b[0m\u001b[1;33m)\u001b[0m\u001b[1;33m\u001b[0m\u001b[1;33m\u001b[0m\u001b[0m\n\u001b[0m",
      "\u001b[1;32m~\\anaconda3\\envs\\BigData\\lib\\contextlib.py\u001b[0m in \u001b[0;36m__exit__\u001b[1;34m(self, *exc_info)\u001b[0m\n\u001b[0;32m    297\u001b[0m         \u001b[1;32mreturn\u001b[0m \u001b[0mself\u001b[0m\u001b[1;33m.\u001b[0m\u001b[0mthing\u001b[0m\u001b[1;33m\u001b[0m\u001b[1;33m\u001b[0m\u001b[0m\n\u001b[0;32m    298\u001b[0m     \u001b[1;32mdef\u001b[0m \u001b[0m__exit__\u001b[0m\u001b[1;33m(\u001b[0m\u001b[0mself\u001b[0m\u001b[1;33m,\u001b[0m \u001b[1;33m*\u001b[0m\u001b[0mexc_info\u001b[0m\u001b[1;33m)\u001b[0m\u001b[1;33m:\u001b[0m\u001b[1;33m\u001b[0m\u001b[1;33m\u001b[0m\u001b[0m\n\u001b[1;32m--> 299\u001b[1;33m         \u001b[0mself\u001b[0m\u001b[1;33m.\u001b[0m\u001b[0mthing\u001b[0m\u001b[1;33m.\u001b[0m\u001b[0mclose\u001b[0m\u001b[1;33m(\u001b[0m\u001b[1;33m)\u001b[0m\u001b[1;33m\u001b[0m\u001b[1;33m\u001b[0m\u001b[0m\n\u001b[0m\u001b[0;32m    300\u001b[0m \u001b[1;33m\u001b[0m\u001b[0m\n\u001b[0;32m    301\u001b[0m \u001b[1;33m\u001b[0m\u001b[0m\n",
      "\u001b[1;32m~\\anaconda3\\envs\\BigData\\lib\\site-packages\\mysql\\connector\\cursor.py\u001b[0m in \u001b[0;36mclose\u001b[1;34m(self)\u001b[0m\n\u001b[0;32m    395\u001b[0m             \u001b[1;32mreturn\u001b[0m \u001b[1;32mFalse\u001b[0m\u001b[1;33m\u001b[0m\u001b[1;33m\u001b[0m\u001b[0m\n\u001b[0;32m    396\u001b[0m \u001b[1;33m\u001b[0m\u001b[0m\n\u001b[1;32m--> 397\u001b[1;33m         \u001b[0mself\u001b[0m\u001b[1;33m.\u001b[0m\u001b[0m_connection\u001b[0m\u001b[1;33m.\u001b[0m\u001b[0mhandle_unread_result\u001b[0m\u001b[1;33m(\u001b[0m\u001b[1;33m)\u001b[0m\u001b[1;33m\u001b[0m\u001b[1;33m\u001b[0m\u001b[0m\n\u001b[0m\u001b[0;32m    398\u001b[0m         \u001b[0mself\u001b[0m\u001b[1;33m.\u001b[0m\u001b[0m_reset_result\u001b[0m\u001b[1;33m(\u001b[0m\u001b[1;33m)\u001b[0m\u001b[1;33m\u001b[0m\u001b[1;33m\u001b[0m\u001b[0m\n\u001b[0;32m    399\u001b[0m         \u001b[0mself\u001b[0m\u001b[1;33m.\u001b[0m\u001b[0m_connection\u001b[0m \u001b[1;33m=\u001b[0m \u001b[1;32mNone\u001b[0m\u001b[1;33m\u001b[0m\u001b[1;33m\u001b[0m\u001b[0m\n",
      "\u001b[1;32m~\\anaconda3\\envs\\BigData\\lib\\site-packages\\mysql\\connector\\connection.py\u001b[0m in \u001b[0;36mhandle_unread_result\u001b[1;34m(self)\u001b[0m\n\u001b[0;32m   1275\u001b[0m             \u001b[0mself\u001b[0m\u001b[1;33m.\u001b[0m\u001b[0mconsume_results\u001b[0m\u001b[1;33m(\u001b[0m\u001b[1;33m)\u001b[0m\u001b[1;33m\u001b[0m\u001b[1;33m\u001b[0m\u001b[0m\n\u001b[0;32m   1276\u001b[0m         \u001b[1;32melif\u001b[0m \u001b[0mself\u001b[0m\u001b[1;33m.\u001b[0m\u001b[0munread_result\u001b[0m\u001b[1;33m:\u001b[0m\u001b[1;33m\u001b[0m\u001b[1;33m\u001b[0m\u001b[0m\n\u001b[1;32m-> 1277\u001b[1;33m             \u001b[1;32mraise\u001b[0m \u001b[0merrors\u001b[0m\u001b[1;33m.\u001b[0m\u001b[0mInternalError\u001b[0m\u001b[1;33m(\u001b[0m\u001b[1;34m\"Unread result found\"\u001b[0m\u001b[1;33m)\u001b[0m\u001b[1;33m\u001b[0m\u001b[1;33m\u001b[0m\u001b[0m\n\u001b[0m",
      "\u001b[1;31mInternalError\u001b[0m: Unread result found"
     ]
    }
   ],
   "source": [
    "db='BigData'\n",
    "with closing(connect(host=\"localhost\", user=os.getenv('USERNAME1'), password=os.getenv('PASSWORD1'), database=db)) as cnxn:\n",
    "    with closing(cnxn.cursor()) as cursorIter:\n",
    "        # cursorIter.execute('Select Tweet_ID from Sentiment where User_id is not null ')\n",
    "        cursorIter.execute('Select Tweet_ID from Sentiment where Fetched is null')\n",
    "        for row in cursorIter:\n",
    "            if single_call_count >= single_call_limit:\n",
    "                print(f'Fetching : {count} calls made')\n",
    "                try:\n",
    "                    hydrated_tweets = api.statuses_lookup(id_lst, tweet_mode = \"extended\")\n",
    "                except TweepError:\n",
    "                    time.sleep(60)\n",
    "                    hydrated_tweets = api.statuses_lookup(id_lst, tweet_mode = \"extended\")\n",
    "                packaged_info, good_set = packaging_data_for_update(hydrated_tweets)\n",
    "                with closing(connect(host=\"localhost\", user=os.getenv('USERNAME1'), password=os.getenv('PASSWORD1'), database=db)) as cnxn1:\n",
    "                    with closing(cnxn1.cursor(buffered=True)) as cursorUpdater:\n",
    "                        try:\n",
    "                            cursorUpdater.executemany('update Sentiment set Created_at = %s, location = %s, followers_count = %s, Original_tweet = %s, User_id = %s, Content = %s, Retweet_count = %s, Fetched = \"Yes\" where Tweet_ID = %s', packaged_info)\n",
    "                            cursorUpdater.executemany('update Sentiment set Fetched = \"Yes\" where Tweet_ID = %s', [[tweet] for tweet in set(id_lst) - good_set])\n",
    "                        except:\n",
    "                            pass\n",
    "                        cnxn1.commit()\n",
    "                single_call_count = 1\n",
    "                id_lst = [row[0]]\n",
    "                count += 1\n",
    "            else:\n",
    "                single_call_count += 1\n",
    "                id_lst.append(row[0])\n"
   ]
  },
  {
   "cell_type": "code",
   "execution_count": 7,
   "metadata": {},
   "outputs": [
    {
     "output_type": "stream",
     "name": "stdout",
     "text": [
      "[2, 3, 4]\n"
     ]
    }
   ],
   "source": [
    "lst1 = set([1, 2 ,3])\n",
    "lst2 = set([2, 3, 4])\n",
    "print([x for x in lst2])"
   ]
  },
  {
   "cell_type": "code",
   "execution_count": 13,
   "metadata": {
    "tags": []
   },
   "outputs": [],
   "source": [
    "example = api.statuses_lookup([1289350148263251969, 1289350148334657537], tweet_mode=\"extended\")\n"
   ]
  },
  {
   "cell_type": "code",
   "execution_count": 54,
   "metadata": {
    "tags": []
   },
   "outputs": [
    {
     "output_type": "stream",
     "name": "stdout",
     "text": [
      "1289309756415336448\n"
     ]
    },
    {
     "output_type": "error",
     "ename": "AttributeError",
     "evalue": "'Status' object has no attribute 'retweeted_status'",
     "traceback": [
      "\u001b[1;31m---------------------------------------------------------------------------\u001b[0m",
      "\u001b[1;31mAttributeError\u001b[0m                            Traceback (most recent call last)",
      "\u001b[1;32m<ipython-input-54-214024fb9ce0>\u001b[0m in \u001b[0;36m<module>\u001b[1;34m\u001b[0m\n\u001b[0;32m      9\u001b[0m \u001b[1;31m# tweet_id = int(tweet._json['id'])\u001b[0m\u001b[1;33m\u001b[0m\u001b[1;33m\u001b[0m\u001b[1;33m\u001b[0m\u001b[0m\n\u001b[0;32m     10\u001b[0m \u001b[1;31m# text = tweet._json['text']\u001b[0m\u001b[1;33m\u001b[0m\u001b[1;33m\u001b[0m\u001b[1;33m\u001b[0m\u001b[0m\n\u001b[1;32m---> 11\u001b[1;33m \u001b[0mprint\u001b[0m\u001b[1;33m(\u001b[0m\u001b[0mexample\u001b[0m\u001b[1;33m[\u001b[0m\u001b[1;36m0\u001b[0m\u001b[1;33m]\u001b[0m\u001b[1;33m.\u001b[0m\u001b[0mretweeted_status\u001b[0m\u001b[1;33m)\u001b[0m\u001b[1;33m\u001b[0m\u001b[1;33m\u001b[0m\u001b[0m\n\u001b[0m",
      "\u001b[1;31mAttributeError\u001b[0m: 'Status' object has no attribute 'retweeted_status'"
     ]
    }
   ],
   "source": [
    "# print(example[0].retweeted_status.full_text)\n",
    "try:\n",
    "    print(example[1].retweeted_status.id)\n",
    "except AttributeError:\n",
    "    print(example[0].retweet_count)\n",
    "# followers_count = int(tweet._json['user']['followers_count'])\n",
    "# User_id = int(tweet._json['user']['id'])\n",
    "# RT = bool(re.match('^RT', tweet._json['text']))\n",
    "# tweet_id = int(tweet._json['id'])\n",
    "# text = tweet._json['text']\n",
    "print(example[0].retweeted_status)"
   ]
  },
  {
   "cell_type": "code",
   "execution_count": null,
   "metadata": {},
   "outputs": [],
   "source": []
  },
  {
   "cell_type": "code",
   "execution_count": 38,
   "metadata": {
    "tags": []
   },
   "outputs": [],
   "source": [
    "import json\n",
    "with open('test.txt', 'w') as f:\n",
    "    json.dump(example[0]._json, f)\n",
    "    json.dump(example[1]._json, f)"
   ]
  },
  {
   "cell_type": "code",
   "execution_count": 10,
   "metadata": {
    "tags": []
   },
   "outputs": [
    {
     "output_type": "error",
     "ename": "IndexError",
     "evalue": "list index out of range",
     "traceback": [
      "\u001b[1;31m---------------------------------------------------------------------------\u001b[0m",
      "\u001b[1;31mIndexError\u001b[0m                                Traceback (most recent call last)",
      "\u001b[1;32m<ipython-input-10-0fb47d5e2e77>\u001b[0m in \u001b[0;36m<module>\u001b[1;34m\u001b[0m\n\u001b[0;32m      1\u001b[0m \u001b[1;32mimport\u001b[0m \u001b[0mjson\u001b[0m\u001b[1;33m\u001b[0m\u001b[1;33m\u001b[0m\u001b[0m\n\u001b[0;32m      2\u001b[0m \u001b[1;32mimport\u001b[0m \u001b[0mre\u001b[0m\u001b[1;33m\u001b[0m\u001b[1;33m\u001b[0m\u001b[0m\n\u001b[1;32m----> 3\u001b[1;33m \u001b[0mstatus\u001b[0m \u001b[1;33m=\u001b[0m \u001b[0mexample\u001b[0m\u001b[1;33m[\u001b[0m\u001b[1;36m0\u001b[0m\u001b[1;33m]\u001b[0m\u001b[1;33m\u001b[0m\u001b[1;33m\u001b[0m\u001b[0m\n\u001b[0m\u001b[0;32m      4\u001b[0m \u001b[0mprint\u001b[0m\u001b[1;33m(\u001b[0m\u001b[0mstatus\u001b[0m\u001b[1;33m.\u001b[0m\u001b[0m_json\u001b[0m\u001b[1;33m[\u001b[0m\u001b[1;34m'created_at'\u001b[0m\u001b[1;33m]\u001b[0m\u001b[1;33m)\u001b[0m\u001b[1;33m\u001b[0m\u001b[1;33m\u001b[0m\u001b[0m\n\u001b[0;32m      5\u001b[0m \u001b[0mprint\u001b[0m\u001b[1;33m(\u001b[0m\u001b[0mstatus\u001b[0m\u001b[1;33m.\u001b[0m\u001b[0m_json\u001b[0m\u001b[1;33m[\u001b[0m\u001b[1;34m'user'\u001b[0m\u001b[1;33m]\u001b[0m\u001b[1;33m[\u001b[0m\u001b[1;34m'location'\u001b[0m\u001b[1;33m]\u001b[0m\u001b[1;33m)\u001b[0m\u001b[1;33m\u001b[0m\u001b[1;33m\u001b[0m\u001b[0m\n",
      "\u001b[1;31mIndexError\u001b[0m: list index out of range"
     ]
    }
   ],
   "source": [
    "import json\n",
    "import re\n",
    "status = example[0]\n",
    "print(status._json['created_at'])\n",
    "print(status._json['user']['location'])\n",
    "print(status._json['user']['followers_count'])\n",
    "print(status._json['user']['id'])\n",
    "print(re.match('^RT', status._json['text']))\n",
    "print(status._json['id'])\n",
    "# text\n",
    "# created_at\n",
    "# location\n",
    "# followers_count"
   ]
  },
  {
   "cell_type": "code",
   "execution_count": null,
   "metadata": {},
   "outputs": [],
   "source": []
  }
 ]
}