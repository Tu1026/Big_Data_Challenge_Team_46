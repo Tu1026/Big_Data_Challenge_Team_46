{
 "metadata": {
  "language_info": {
   "codemirror_mode": {
    "name": "ipython",
    "version": 3
   },
   "file_extension": ".py",
   "mimetype": "text/x-python",
   "name": "python",
   "nbconvert_exporter": "python",
   "pygments_lexer": "ipython3",
   "version": "3.8.10"
  },
  "orig_nbformat": 2,
  "kernelspec": {
   "name": "python3810jvsc74a57bd020db2249124e18b25fff58d0fcb4d34b9c3f3ad3725b69b3380f71d10fc6b82a",
   "display_name": "Python 3.8.10 64-bit ('BigData': conda)"
  }
 },
 "nbformat": 4,
 "nbformat_minor": 2,
 "cells": [
  {
   "source": [
    "import sqlite3\n",
    "from sqlite3 import Error\n",
    "from contextlib import closing\n",
    "from mysql.connector import connect, Error\n",
    "import os\n",
    "from dotenv import load_dotenv\n",
    "load_dotenv()"
   ],
   "cell_type": "code",
   "metadata": {},
   "execution_count": 2,
   "outputs": []
  },
  {
   "source": [
    "### Creating table for all the details"
   ],
   "cell_type": "markdown",
   "metadata": {}
  },
  {
   "cell_type": "code",
   "execution_count": 17,
   "metadata": {},
   "outputs": [],
   "source": [
    "with closing(sqlite3.connect('BigDataChallenge.sqlite')) as cnxn:\n",
    "    cnxn.execute(\"Drop table Details\")"
   ]
  },
  {
   "cell_type": "code",
   "execution_count": 18,
   "metadata": {},
   "outputs": [],
   "source": [
    "create_table_sql = \"\"\"\n",
    "Create table Details (\n",
    "    Tweet_ID INTEGER Primary Key, \n",
    "    Language text,\n",
    "    Geolocation_coordinate text,\n",
    "    RT text,\n",
    "    Likes int,\n",
    "    Retweets int,\n",
    "    Country text,\n",
    "    Date_Created text)\n",
    "\"\"\"\n",
    "with closing(sqlite3.connect('BigDataChallenge.sqlite')) as cnxn:\n",
    "    cnxn.execute(create_table_sql)"
   ]
  },
  {
   "source": [
    "### Creating table for all the Hashtag"
   ],
   "cell_type": "markdown",
   "metadata": {}
  },
  {
   "cell_type": "code",
   "execution_count": 10,
   "metadata": {},
   "outputs": [],
   "source": [
    "create_table_sql = \"\"\"\n",
    "Create table Hashtag (\n",
    "    Tweet_ID INTEGER Primary Key, \n",
    "    Hashtag text)\n",
    "\"\"\"\n",
    "with closing(sqlite3.connect('BigDataChallenge.sqlite')) as cnxn:\n",
    "    cnxn.execute(create_table_sql)"
   ]
  },
  {
   "cell_type": "code",
   "execution_count": 11,
   "metadata": {},
   "outputs": [],
   "source": [
    "create_table_sql = \"\"\"\n",
    "Create table Mentions (\n",
    "    Tweet_ID INTEGER Primary Key, \n",
    "    Mentions text)\n",
    "\"\"\"\n",
    "with closing(sqlite3.connect('BigDataChallenge.sqlite')) as cnxn:\n",
    "    cnxn.execute(create_table_sql)"
   ]
  },
  {
   "cell_type": "code",
   "execution_count": 12,
   "metadata": {},
   "outputs": [],
   "source": [
    "create_table_sql = \"\"\"\n",
    "Create table NER (\n",
    "    Tweet_ID INTEGER Primary Key, \n",
    "    NER_Text text,\n",
    "    Start_Pos int,\n",
    "    Eng_Pos int,\n",
    "    NER_Label text,\n",
    "    Prob int)\n",
    "\"\"\"\n",
    "with closing(sqlite3.connect('BigDataChallenge.sqlite')) as cnxn:\n",
    "    cnxn.execute(create_table_sql)"
   ]
  },
  {
   "cell_type": "code",
   "execution_count": 13,
   "metadata": {},
   "outputs": [],
   "source": [
    "create_table_sql = \"\"\"\n",
    "Create table Sentiment (\n",
    "    Tweet_ID INTEGER Primary Key, \n",
    "    Sentiment_Label text,\n",
    "    Logits_Neutral int,\n",
    "    Logits_Positive int,\n",
    "    Logits_Negative int)\n",
    "\"\"\"\n",
    "with closing(sqlite3.connect('BigDataChallenge.sqlite')) as cnxn:\n",
    "    cnxn.execute(create_table_sql)"
   ]
  },
  {
   "cell_type": "code",
   "execution_count": 27,
   "metadata": {},
   "outputs": [
    {
     "output_type": "stream",
     "name": "stdout",
     "text": [
      "[(20230000,)]\n"
     ]
    }
   ],
   "source": [
    "db='BigData'\n",
    "with closing(connect(\n",
    "    host=\"localhost\",\n",
    "    user=os.getenv('USERNAME1'),\n",
    "    password=os.getenv('PASSWORD1'),\n",
    "    database=db)) as cnxn:\n",
    "    with cnxn.cursor() as cursor1:\n",
    "        cursor1.execute('select count(*) from Sentiment')\n",
    "        print(cursor1.fetchall())"
   ]
  },
  {
   "cell_type": "code",
   "execution_count": 22,
   "metadata": {},
   "outputs": [
    {
     "output_type": "error",
     "ename": "AttributeError",
     "evalue": "'NoneType' object has no attribute 'fetchall'",
     "traceback": [
      "\u001b[1;31m---------------------------------------------------------------------------\u001b[0m",
      "\u001b[1;31mAttributeError\u001b[0m                            Traceback (most recent call last)",
      "\u001b[1;32m<ipython-input-22-72a724736497>\u001b[0m in \u001b[0;36m<module>\u001b[1;34m\u001b[0m\n\u001b[0;32m      8\u001b[0m \u001b[0mcursor\u001b[0m \u001b[1;33m=\u001b[0m \u001b[0mconnection\u001b[0m\u001b[1;33m.\u001b[0m\u001b[0mcursor\u001b[0m\u001b[1;33m(\u001b[0m\u001b[1;33m)\u001b[0m\u001b[1;33m\u001b[0m\u001b[1;33m\u001b[0m\u001b[0m\n\u001b[0;32m      9\u001b[0m \u001b[1;33m\u001b[0m\u001b[0m\n\u001b[1;32m---> 10\u001b[1;33m \u001b[0mprint\u001b[0m\u001b[1;33m(\u001b[0m\u001b[0mcursor\u001b[0m\u001b[1;33m.\u001b[0m\u001b[0mexecute\u001b[0m\u001b[1;33m(\u001b[0m\u001b[1;34m'select * from Sentiment'\u001b[0m\u001b[1;33m)\u001b[0m\u001b[1;33m.\u001b[0m\u001b[0mfetchall\u001b[0m\u001b[1;33m(\u001b[0m\u001b[1;33m)\u001b[0m\u001b[1;33m)\u001b[0m\u001b[1;33m\u001b[0m\u001b[1;33m\u001b[0m\u001b[0m\n\u001b[0m",
      "\u001b[1;31mAttributeError\u001b[0m: 'NoneType' object has no attribute 'fetchall'"
     ]
    }
   ],
   "source": [
    "db='BigData'\n",
    "connection = connect(\n",
    "    host=\"localhost\",\n",
    "    user=os.getenv('USERNAME1'),\n",
    "    password=os.getenv('PASSWORD1'),\n",
    "    database=db)\n",
    "\n",
    "cursor = connection.cursor()\n",
    "cursor.exec\n",
    "print(cursor.execute('select * from Sentiment').fetchall())\n"
   ]
  },
  {
   "cell_type": "code",
   "execution_count": 24,
   "metadata": {},
   "outputs": [],
   "source": [
    "create_table_sql = \"\"\"\n",
    "Alter Table Sentiment\n",
    "    RENAME tweet_content to DateCreated\n",
    "\n",
    "\"\"\"\n",
    "with closing(sqlite3.connect('BigDataChallenge.sqlite')) as cnxn:\n",
    "    cnxn.execute(create_table_sql)"
   ]
  },
  {
   "cell_type": "code",
   "execution_count": 37,
   "metadata": {
    "tags": []
   },
   "outputs": [],
   "source": [
    "create_table_sql = \"\"\"\n",
    "Select * from Sentiment\n",
    "\n",
    "\"\"\"\n",
    "count =10000\n",
    "with closing(sqlite3.connect('BigDataChallenge.sqlite')) as cnxn:\n",
    "     with closing(cnxn.cursor()) as cursorUpdater:\n",
    "        cursorUpdater.executemany('update Sentiment set Created_at = ?, location = ?, followers_count = ?, RT = ?, User_id = ? where Tweet_ID = ?', [['asd', 'asd', 123, 'asd', 123, 1289350162754674689], ['asd', 'asd', 123, 'asd', 123, 1289351271363694592]])\n",
    "        cnxn.commit()"
   ]
  }
 ]
}