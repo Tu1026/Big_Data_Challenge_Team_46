{
 "cells": [
  {
   "cell_type": "code",
   "execution_count": 3,
   "metadata": {},
   "outputs": [],
   "source": [
    "import pandas as pd\r\n",
    "from pathlib import Path\r\n",
    "from dotenv import load_dotenv\r\n",
    "load_dotenv()\r\n",
    "import os\r\n",
    "from contextlib import closing\r\n",
    "from mysql.connector import connect\r\n",
    "import matplotlib.pyplot as plt\r\n",
    "import seaborn as sns\r\n",
    "%matplotlib inline"
   ]
  },
  {
   "cell_type": "markdown",
   "metadata": {},
   "source": [
    "### Create Creditials for mysql connection"
   ]
  },
  {
   "cell_type": "code",
   "execution_count": 4,
   "metadata": {},
   "outputs": [],
   "source": [
    "host=\"localhost\"\r\n",
    "user=os.getenv('USERNAME1')\r\n",
    "password=os.getenv('PASSWORD1')\r\n",
    "database= 'BigData'"
   ]
  },
  {
   "cell_type": "markdown",
   "metadata": {},
   "source": [
    "### Read data from dummy datasets"
   ]
  },
  {
   "cell_type": "code",
   "execution_count": 5,
   "metadata": {},
   "outputs": [],
   "source": [
    "with closing(connect(host=host, user=user, password=password, database=database)) as cnxn:\r\n",
    "    mix = pd.read_sql_query('select * from Sentiment where User_id is not null limit 10000', cnxn)\r\n",
    "    retweet = pd.read_sql_query('select * from Sentiment where User_id is not null and Original_tweet > 0 limit 10000', cnxn)\r\n",
    "    original = pd.read_sql_query('select * from Sentiment where User_id is not null and Original_tweet = 0 limit 10000', cnxn)"
   ]
  },
  {
   "cell_type": "code",
   "execution_count": 6,
   "metadata": {},
   "outputs": [
    {
     "data": {
      "text/plain": [
       "((10000, 13),\n",
       "            Tweet_ID  Logits_Neutral  Logits_Positive  Logits_Negative  \\\n",
       " count  1.000000e+04    10000.000000     10000.000000     10000.000000   \n",
       " mean   1.289351e+18        1.411272         0.246387         1.180189   \n",
       " std    8.515408e+11        0.607640         1.191285         1.186699   \n",
       " min    1.289350e+18        0.019662        -1.662872        -2.243702   \n",
       " 25%    1.289351e+18        1.014373        -0.592888         0.249024   \n",
       " 50%    1.289351e+18        1.385363        -0.020321         1.069624   \n",
       " 75%    1.289352e+18        1.729442         0.829298         2.021499   \n",
       " max    1.289354e+18        4.572380         8.299328         5.530260   \n",
       " \n",
       "        followers_count  Original_tweet       User_id  Retweet_count  \n",
       " count     1.000000e+04    1.000000e+04  1.000000e+04    9997.000000  \n",
       " mean      1.288980e+04    8.944570e+17  3.855799e+17    8504.168351  \n",
       " std       3.350535e+05    5.939753e+17  5.108286e+17   24560.273909  \n",
       " min       0.000000e+00    0.000000e+00  1.688000e+03       0.000000  \n",
       " 25%       1.240000e+02    0.000000e+00  2.651295e+08       0.000000  \n",
       " 50%       4.240000e+02    1.289161e+18  2.392731e+09      79.000000  \n",
       " 75%       1.551500e+03    1.289317e+18  9.165003e+17    3245.000000  \n",
       " max       2.562432e+07    1.289353e+18  1.289348e+18  242484.000000  )"
      ]
     },
     "execution_count": 6,
     "metadata": {},
     "output_type": "execute_result"
    }
   ],
   "source": [
    "mix.shape, mix.describe()"
   ]
  },
  {
   "cell_type": "code",
   "execution_count": 7,
   "metadata": {},
   "outputs": [
    {
     "data": {
      "text/html": [
       "<div>\n",
       "<style scoped>\n",
       "    .dataframe tbody tr th:only-of-type {\n",
       "        vertical-align: middle;\n",
       "    }\n",
       "\n",
       "    .dataframe tbody tr th {\n",
       "        vertical-align: top;\n",
       "    }\n",
       "\n",
       "    .dataframe thead th {\n",
       "        text-align: right;\n",
       "    }\n",
       "</style>\n",
       "<table border=\"1\" class=\"dataframe\">\n",
       "  <thead>\n",
       "    <tr style=\"text-align: right;\">\n",
       "      <th></th>\n",
       "      <th>Tweet_ID</th>\n",
       "      <th>Logits_Neutral</th>\n",
       "      <th>Logits_Positive</th>\n",
       "      <th>Logits_Negative</th>\n",
       "      <th>followers_count</th>\n",
       "      <th>Original_tweet</th>\n",
       "      <th>User_id</th>\n",
       "      <th>Retweet_count</th>\n",
       "    </tr>\n",
       "  </thead>\n",
       "  <tbody>\n",
       "    <tr>\n",
       "      <th>count</th>\n",
       "      <td>1.000000e+04</td>\n",
       "      <td>10000.000000</td>\n",
       "      <td>10000.000000</td>\n",
       "      <td>10000.000000</td>\n",
       "      <td>1.000000e+04</td>\n",
       "      <td>10000.0</td>\n",
       "      <td>1.000000e+04</td>\n",
       "      <td>9996.000000</td>\n",
       "    </tr>\n",
       "    <tr>\n",
       "      <th>mean</th>\n",
       "      <td>1.289354e+18</td>\n",
       "      <td>1.194426</td>\n",
       "      <td>0.353781</td>\n",
       "      <td>1.242206</td>\n",
       "      <td>2.502656e+04</td>\n",
       "      <td>0.0</td>\n",
       "      <td>3.943771e+17</td>\n",
       "      <td>1.667267</td>\n",
       "    </tr>\n",
       "    <tr>\n",
       "      <th>std</th>\n",
       "      <td>2.554359e+12</td>\n",
       "      <td>0.602141</td>\n",
       "      <td>1.293683</td>\n",
       "      <td>1.251726</td>\n",
       "      <td>5.054064e+05</td>\n",
       "      <td>0.0</td>\n",
       "      <td>5.266144e+17</td>\n",
       "      <td>37.609855</td>\n",
       "    </tr>\n",
       "    <tr>\n",
       "      <th>min</th>\n",
       "      <td>1.289350e+18</td>\n",
       "      <td>0.010039</td>\n",
       "      <td>-1.662872</td>\n",
       "      <td>-2.918126</td>\n",
       "      <td>0.000000e+00</td>\n",
       "      <td>0.0</td>\n",
       "      <td>1.688000e+03</td>\n",
       "      <td>0.000000</td>\n",
       "    </tr>\n",
       "    <tr>\n",
       "      <th>25%</th>\n",
       "      <td>1.289352e+18</td>\n",
       "      <td>0.774631</td>\n",
       "      <td>-0.566244</td>\n",
       "      <td>0.278118</td>\n",
       "      <td>1.040000e+02</td>\n",
       "      <td>0.0</td>\n",
       "      <td>1.830589e+08</td>\n",
       "      <td>0.000000</td>\n",
       "    </tr>\n",
       "    <tr>\n",
       "      <th>50%</th>\n",
       "      <td>1.289354e+18</td>\n",
       "      <td>1.144936</td>\n",
       "      <td>0.063046</td>\n",
       "      <td>1.191861</td>\n",
       "      <td>4.740000e+02</td>\n",
       "      <td>0.0</td>\n",
       "      <td>2.160267e+09</td>\n",
       "      <td>0.000000</td>\n",
       "    </tr>\n",
       "    <tr>\n",
       "      <th>75%</th>\n",
       "      <td>1.289357e+18</td>\n",
       "      <td>1.546193</td>\n",
       "      <td>0.930422</td>\n",
       "      <td>2.122740</td>\n",
       "      <td>1.881250e+03</td>\n",
       "      <td>0.0</td>\n",
       "      <td>9.607912e+17</td>\n",
       "      <td>0.000000</td>\n",
       "    </tr>\n",
       "    <tr>\n",
       "      <th>max</th>\n",
       "      <td>1.289359e+18</td>\n",
       "      <td>4.230170</td>\n",
       "      <td>8.299328</td>\n",
       "      <td>5.162858</td>\n",
       "      <td>2.562632e+07</td>\n",
       "      <td>0.0</td>\n",
       "      <td>1.289355e+18</td>\n",
       "      <td>2915.000000</td>\n",
       "    </tr>\n",
       "  </tbody>\n",
       "</table>\n",
       "</div>"
      ],
      "text/plain": [
       "           Tweet_ID  Logits_Neutral  Logits_Positive  Logits_Negative  \\\n",
       "count  1.000000e+04    10000.000000     10000.000000     10000.000000   \n",
       "mean   1.289354e+18        1.194426         0.353781         1.242206   \n",
       "std    2.554359e+12        0.602141         1.293683         1.251726   \n",
       "min    1.289350e+18        0.010039        -1.662872        -2.918126   \n",
       "25%    1.289352e+18        0.774631        -0.566244         0.278118   \n",
       "50%    1.289354e+18        1.144936         0.063046         1.191861   \n",
       "75%    1.289357e+18        1.546193         0.930422         2.122740   \n",
       "max    1.289359e+18        4.230170         8.299328         5.162858   \n",
       "\n",
       "       followers_count  Original_tweet       User_id  Retweet_count  \n",
       "count     1.000000e+04         10000.0  1.000000e+04    9996.000000  \n",
       "mean      2.502656e+04             0.0  3.943771e+17       1.667267  \n",
       "std       5.054064e+05             0.0  5.266144e+17      37.609855  \n",
       "min       0.000000e+00             0.0  1.688000e+03       0.000000  \n",
       "25%       1.040000e+02             0.0  1.830589e+08       0.000000  \n",
       "50%       4.740000e+02             0.0  2.160267e+09       0.000000  \n",
       "75%       1.881250e+03             0.0  9.607912e+17       0.000000  \n",
       "max       2.562632e+07             0.0  1.289355e+18    2915.000000  "
      ]
     },
     "execution_count": 7,
     "metadata": {},
     "output_type": "execute_result"
    }
   ],
   "source": [
    "original.describe()"
   ]
  },
  {
   "cell_type": "code",
   "execution_count": 8,
   "metadata": {},
   "outputs": [
    {
     "data": {
      "text/html": [
       "<div>\n",
       "<style scoped>\n",
       "    .dataframe tbody tr th:only-of-type {\n",
       "        vertical-align: middle;\n",
       "    }\n",
       "\n",
       "    .dataframe tbody tr th {\n",
       "        vertical-align: top;\n",
       "    }\n",
       "\n",
       "    .dataframe thead th {\n",
       "        text-align: right;\n",
       "    }\n",
       "</style>\n",
       "<table border=\"1\" class=\"dataframe\">\n",
       "  <thead>\n",
       "    <tr style=\"text-align: right;\">\n",
       "      <th></th>\n",
       "      <th>Tweet_ID</th>\n",
       "      <th>Logits_Neutral</th>\n",
       "      <th>Logits_Positive</th>\n",
       "      <th>Logits_Negative</th>\n",
       "      <th>followers_count</th>\n",
       "      <th>Original_tweet</th>\n",
       "      <th>User_id</th>\n",
       "      <th>Retweet_count</th>\n",
       "    </tr>\n",
       "  </thead>\n",
       "  <tbody>\n",
       "    <tr>\n",
       "      <th>count</th>\n",
       "      <td>1.000000e+04</td>\n",
       "      <td>10000.000000</td>\n",
       "      <td>10000.000000</td>\n",
       "      <td>10000.000000</td>\n",
       "      <td>1.000000e+04</td>\n",
       "      <td>1.000000e+04</td>\n",
       "      <td>1.000000e+04</td>\n",
       "      <td>9994.000000</td>\n",
       "    </tr>\n",
       "    <tr>\n",
       "      <th>mean</th>\n",
       "      <td>1.289352e+18</td>\n",
       "      <td>1.503748</td>\n",
       "      <td>0.173895</td>\n",
       "      <td>1.177265</td>\n",
       "      <td>2.641942e+03</td>\n",
       "      <td>1.288098e+18</td>\n",
       "      <td>3.828213e+17</td>\n",
       "      <td>11324.968581</td>\n",
       "    </tr>\n",
       "    <tr>\n",
       "      <th>std</th>\n",
       "      <td>1.142970e+12</td>\n",
       "      <td>0.583496</td>\n",
       "      <td>1.107095</td>\n",
       "      <td>1.133252</td>\n",
       "      <td>2.252854e+04</td>\n",
       "      <td>3.177698e+16</td>\n",
       "      <td>5.029245e+17</td>\n",
       "      <td>27111.018748</td>\n",
       "    </tr>\n",
       "    <tr>\n",
       "      <th>min</th>\n",
       "      <td>1.289350e+18</td>\n",
       "      <td>0.071763</td>\n",
       "      <td>-1.678091</td>\n",
       "      <td>-2.119230</td>\n",
       "      <td>0.000000e+00</td>\n",
       "      <td>1.000000e+00</td>\n",
       "      <td>1.538300e+04</td>\n",
       "      <td>1.000000</td>\n",
       "    </tr>\n",
       "    <tr>\n",
       "      <th>25%</th>\n",
       "      <td>1.289351e+18</td>\n",
       "      <td>1.138510</td>\n",
       "      <td>-0.620122</td>\n",
       "      <td>0.294329</td>\n",
       "      <td>1.290000e+02</td>\n",
       "      <td>1.289146e+18</td>\n",
       "      <td>3.092639e+08</td>\n",
       "      <td>53.000000</td>\n",
       "    </tr>\n",
       "    <tr>\n",
       "      <th>50%</th>\n",
       "      <td>1.289352e+18</td>\n",
       "      <td>1.421539</td>\n",
       "      <td>-0.082664</td>\n",
       "      <td>1.068381</td>\n",
       "      <td>4.040000e+02</td>\n",
       "      <td>1.289271e+18</td>\n",
       "      <td>2.492093e+09</td>\n",
       "      <td>682.000000</td>\n",
       "    </tr>\n",
       "    <tr>\n",
       "      <th>75%</th>\n",
       "      <td>1.289353e+18</td>\n",
       "      <td>1.796293</td>\n",
       "      <td>0.740199</td>\n",
       "      <td>2.020746</td>\n",
       "      <td>1.435000e+03</td>\n",
       "      <td>1.289338e+18</td>\n",
       "      <td>9.003647e+17</td>\n",
       "      <td>7558.000000</td>\n",
       "    </tr>\n",
       "    <tr>\n",
       "      <th>max</th>\n",
       "      <td>1.289354e+18</td>\n",
       "      <td>4.572380</td>\n",
       "      <td>7.620745</td>\n",
       "      <td>5.530260</td>\n",
       "      <td>1.786762e+06</td>\n",
       "      <td>1.289354e+18</td>\n",
       "      <td>1.289334e+18</td>\n",
       "      <td>242484.000000</td>\n",
       "    </tr>\n",
       "  </tbody>\n",
       "</table>\n",
       "</div>"
      ],
      "text/plain": [
       "           Tweet_ID  Logits_Neutral  Logits_Positive  Logits_Negative  \\\n",
       "count  1.000000e+04    10000.000000     10000.000000     10000.000000   \n",
       "mean   1.289352e+18        1.503748         0.173895         1.177265   \n",
       "std    1.142970e+12        0.583496         1.107095         1.133252   \n",
       "min    1.289350e+18        0.071763        -1.678091        -2.119230   \n",
       "25%    1.289351e+18        1.138510        -0.620122         0.294329   \n",
       "50%    1.289352e+18        1.421539        -0.082664         1.068381   \n",
       "75%    1.289353e+18        1.796293         0.740199         2.020746   \n",
       "max    1.289354e+18        4.572380         7.620745         5.530260   \n",
       "\n",
       "       followers_count  Original_tweet       User_id  Retweet_count  \n",
       "count     1.000000e+04    1.000000e+04  1.000000e+04    9994.000000  \n",
       "mean      2.641942e+03    1.288098e+18  3.828213e+17   11324.968581  \n",
       "std       2.252854e+04    3.177698e+16  5.029245e+17   27111.018748  \n",
       "min       0.000000e+00    1.000000e+00  1.538300e+04       1.000000  \n",
       "25%       1.290000e+02    1.289146e+18  3.092639e+08      53.000000  \n",
       "50%       4.040000e+02    1.289271e+18  2.492093e+09     682.000000  \n",
       "75%       1.435000e+03    1.289338e+18  9.003647e+17    7558.000000  \n",
       "max       1.786762e+06    1.289354e+18  1.289334e+18  242484.000000  "
      ]
     },
     "execution_count": 8,
     "metadata": {},
     "output_type": "execute_result"
    }
   ],
   "source": [
    "retweet.describe()"
   ]
  },
  {
   "cell_type": "code",
   "execution_count": 9,
   "metadata": {},
   "outputs": [
    {
     "data": {
      "text/html": [
       "<div>\n",
       "<style scoped>\n",
       "    .dataframe tbody tr th:only-of-type {\n",
       "        vertical-align: middle;\n",
       "    }\n",
       "\n",
       "    .dataframe tbody tr th {\n",
       "        vertical-align: top;\n",
       "    }\n",
       "\n",
       "    .dataframe thead th {\n",
       "        text-align: right;\n",
       "    }\n",
       "</style>\n",
       "<table border=\"1\" class=\"dataframe\">\n",
       "  <thead>\n",
       "    <tr style=\"text-align: right;\">\n",
       "      <th></th>\n",
       "      <th>count</th>\n",
       "      <th>mean</th>\n",
       "      <th>std</th>\n",
       "      <th>min</th>\n",
       "      <th>25%</th>\n",
       "      <th>50%</th>\n",
       "      <th>75%</th>\n",
       "      <th>max</th>\n",
       "    </tr>\n",
       "    <tr>\n",
       "      <th>Sentiment_Label</th>\n",
       "      <th></th>\n",
       "      <th></th>\n",
       "      <th></th>\n",
       "      <th></th>\n",
       "      <th></th>\n",
       "      <th></th>\n",
       "      <th></th>\n",
       "      <th></th>\n",
       "    </tr>\n",
       "  </thead>\n",
       "  <tbody>\n",
       "    <tr>\n",
       "      <th>negative</th>\n",
       "      <td>4422.0</td>\n",
       "      <td>6650.722976</td>\n",
       "      <td>13936.995985</td>\n",
       "      <td>0.0</td>\n",
       "      <td>0.0</td>\n",
       "      <td>109.0</td>\n",
       "      <td>3465.0</td>\n",
       "      <td>128854.0</td>\n",
       "    </tr>\n",
       "    <tr>\n",
       "      <th>neutral</th>\n",
       "      <td>4205.0</td>\n",
       "      <td>12316.600951</td>\n",
       "      <td>34488.689465</td>\n",
       "      <td>0.0</td>\n",
       "      <td>1.0</td>\n",
       "      <td>93.0</td>\n",
       "      <td>3153.0</td>\n",
       "      <td>242484.0</td>\n",
       "    </tr>\n",
       "    <tr>\n",
       "      <th>positive</th>\n",
       "      <td>1370.0</td>\n",
       "      <td>2784.939416</td>\n",
       "      <td>5999.249507</td>\n",
       "      <td>0.0</td>\n",
       "      <td>0.0</td>\n",
       "      <td>8.0</td>\n",
       "      <td>2464.0</td>\n",
       "      <td>30379.0</td>\n",
       "    </tr>\n",
       "  </tbody>\n",
       "</table>\n",
       "</div>"
      ],
      "text/plain": [
       "                  count          mean           std  min  25%    50%     75%  \\\n",
       "Sentiment_Label                                                                \n",
       "negative         4422.0   6650.722976  13936.995985  0.0  0.0  109.0  3465.0   \n",
       "neutral          4205.0  12316.600951  34488.689465  0.0  1.0   93.0  3153.0   \n",
       "positive         1370.0   2784.939416   5999.249507  0.0  0.0    8.0  2464.0   \n",
       "\n",
       "                      max  \n",
       "Sentiment_Label            \n",
       "negative         128854.0  \n",
       "neutral          242484.0  \n",
       "positive          30379.0  "
      ]
     },
     "execution_count": 9,
     "metadata": {},
     "output_type": "execute_result"
    }
   ],
   "source": [
    "mix.groupby(by=['Sentiment_Label'])['Retweet_count'].describe()"
   ]
  },
  {
   "cell_type": "code",
   "execution_count": 10,
   "metadata": {},
   "outputs": [
    {
     "data": {
      "text/html": [
       "<div>\n",
       "<style scoped>\n",
       "    .dataframe tbody tr th:only-of-type {\n",
       "        vertical-align: middle;\n",
       "    }\n",
       "\n",
       "    .dataframe tbody tr th {\n",
       "        vertical-align: top;\n",
       "    }\n",
       "\n",
       "    .dataframe thead th {\n",
       "        text-align: right;\n",
       "    }\n",
       "</style>\n",
       "<table border=\"1\" class=\"dataframe\">\n",
       "  <thead>\n",
       "    <tr style=\"text-align: right;\">\n",
       "      <th></th>\n",
       "      <th>count</th>\n",
       "      <th>mean</th>\n",
       "      <th>std</th>\n",
       "      <th>min</th>\n",
       "      <th>25%</th>\n",
       "      <th>50%</th>\n",
       "      <th>75%</th>\n",
       "      <th>max</th>\n",
       "    </tr>\n",
       "    <tr>\n",
       "      <th>Sentiment_Label</th>\n",
       "      <th></th>\n",
       "      <th></th>\n",
       "      <th></th>\n",
       "      <th></th>\n",
       "      <th></th>\n",
       "      <th></th>\n",
       "      <th></th>\n",
       "      <th></th>\n",
       "    </tr>\n",
       "  </thead>\n",
       "  <tbody>\n",
       "    <tr>\n",
       "      <th>negative</th>\n",
       "      <td>4989.0</td>\n",
       "      <td>2.253357</td>\n",
       "      <td>50.725403</td>\n",
       "      <td>0.0</td>\n",
       "      <td>0.0</td>\n",
       "      <td>0.0</td>\n",
       "      <td>0.0</td>\n",
       "      <td>2915.0</td>\n",
       "    </tr>\n",
       "    <tr>\n",
       "      <th>neutral</th>\n",
       "      <td>3265.0</td>\n",
       "      <td>1.203369</td>\n",
       "      <td>19.196489</td>\n",
       "      <td>0.0</td>\n",
       "      <td>0.0</td>\n",
       "      <td>0.0</td>\n",
       "      <td>0.0</td>\n",
       "      <td>974.0</td>\n",
       "    </tr>\n",
       "    <tr>\n",
       "      <th>positive</th>\n",
       "      <td>1742.0</td>\n",
       "      <td>0.858209</td>\n",
       "      <td>7.469101</td>\n",
       "      <td>0.0</td>\n",
       "      <td>0.0</td>\n",
       "      <td>0.0</td>\n",
       "      <td>0.0</td>\n",
       "      <td>222.0</td>\n",
       "    </tr>\n",
       "  </tbody>\n",
       "</table>\n",
       "</div>"
      ],
      "text/plain": [
       "                  count      mean        std  min  25%  50%  75%     max\n",
       "Sentiment_Label                                                         \n",
       "negative         4989.0  2.253357  50.725403  0.0  0.0  0.0  0.0  2915.0\n",
       "neutral          3265.0  1.203369  19.196489  0.0  0.0  0.0  0.0   974.0\n",
       "positive         1742.0  0.858209   7.469101  0.0  0.0  0.0  0.0   222.0"
      ]
     },
     "execution_count": 10,
     "metadata": {},
     "output_type": "execute_result"
    }
   ],
   "source": [
    "original.groupby(by=['Sentiment_Label'])['Retweet_count'].describe()"
   ]
  },
  {
   "cell_type": "code",
   "execution_count": 11,
   "metadata": {},
   "outputs": [
    {
     "data": {
      "text/html": [
       "<div>\n",
       "<style scoped>\n",
       "    .dataframe tbody tr th:only-of-type {\n",
       "        vertical-align: middle;\n",
       "    }\n",
       "\n",
       "    .dataframe tbody tr th {\n",
       "        vertical-align: top;\n",
       "    }\n",
       "\n",
       "    .dataframe thead th {\n",
       "        text-align: right;\n",
       "    }\n",
       "</style>\n",
       "<table border=\"1\" class=\"dataframe\">\n",
       "  <thead>\n",
       "    <tr style=\"text-align: right;\">\n",
       "      <th></th>\n",
       "      <th>count</th>\n",
       "      <th>mean</th>\n",
       "      <th>std</th>\n",
       "      <th>min</th>\n",
       "      <th>25%</th>\n",
       "      <th>50%</th>\n",
       "      <th>75%</th>\n",
       "      <th>max</th>\n",
       "    </tr>\n",
       "    <tr>\n",
       "      <th>Sentiment_Label</th>\n",
       "      <th></th>\n",
       "      <th></th>\n",
       "      <th></th>\n",
       "      <th></th>\n",
       "      <th></th>\n",
       "      <th></th>\n",
       "      <th></th>\n",
       "      <th></th>\n",
       "    </tr>\n",
       "  </thead>\n",
       "  <tbody>\n",
       "    <tr>\n",
       "      <th>negative</th>\n",
       "      <td>4217.0</td>\n",
       "      <td>9091.295708</td>\n",
       "      <td>15615.658346</td>\n",
       "      <td>1.0</td>\n",
       "      <td>88.0</td>\n",
       "      <td>751.0</td>\n",
       "      <td>20110.0</td>\n",
       "      <td>128854.0</td>\n",
       "    </tr>\n",
       "    <tr>\n",
       "      <th>neutral</th>\n",
       "      <td>4699.0</td>\n",
       "      <td>14817.149819</td>\n",
       "      <td>36138.082022</td>\n",
       "      <td>1.0</td>\n",
       "      <td>40.0</td>\n",
       "      <td>538.0</td>\n",
       "      <td>5302.0</td>\n",
       "      <td>242484.0</td>\n",
       "    </tr>\n",
       "    <tr>\n",
       "      <th>positive</th>\n",
       "      <td>1078.0</td>\n",
       "      <td>4840.403525</td>\n",
       "      <td>7324.678495</td>\n",
       "      <td>1.0</td>\n",
       "      <td>36.0</td>\n",
       "      <td>846.0</td>\n",
       "      <td>8116.0</td>\n",
       "      <td>30379.0</td>\n",
       "    </tr>\n",
       "  </tbody>\n",
       "</table>\n",
       "</div>"
      ],
      "text/plain": [
       "                  count          mean           std  min   25%    50%  \\\n",
       "Sentiment_Label                                                         \n",
       "negative         4217.0   9091.295708  15615.658346  1.0  88.0  751.0   \n",
       "neutral          4699.0  14817.149819  36138.082022  1.0  40.0  538.0   \n",
       "positive         1078.0   4840.403525   7324.678495  1.0  36.0  846.0   \n",
       "\n",
       "                     75%       max  \n",
       "Sentiment_Label                     \n",
       "negative         20110.0  128854.0  \n",
       "neutral           5302.0  242484.0  \n",
       "positive          8116.0   30379.0  "
      ]
     },
     "execution_count": 11,
     "metadata": {},
     "output_type": "execute_result"
    }
   ],
   "source": [
    "retweet.groupby(by=['Sentiment_Label'])['Retweet_count'].describe()"
   ]
  },
  {
   "cell_type": "code",
   "execution_count": 12,
   "metadata": {},
   "outputs": [
    {
     "data": {
      "text/html": [
       "<div>\n",
       "<style scoped>\n",
       "    .dataframe tbody tr th:only-of-type {\n",
       "        vertical-align: middle;\n",
       "    }\n",
       "\n",
       "    .dataframe tbody tr th {\n",
       "        vertical-align: top;\n",
       "    }\n",
       "\n",
       "    .dataframe thead th {\n",
       "        text-align: right;\n",
       "    }\n",
       "</style>\n",
       "<table border=\"1\" class=\"dataframe\">\n",
       "  <thead>\n",
       "    <tr style=\"text-align: right;\">\n",
       "      <th></th>\n",
       "      <th>Tweet_ID</th>\n",
       "      <th>Sentiment_Label</th>\n",
       "      <th>Logits_Neutral</th>\n",
       "      <th>Logits_Positive</th>\n",
       "      <th>Logits_Negative</th>\n",
       "      <th>Created_at</th>\n",
       "      <th>location</th>\n",
       "      <th>followers_count</th>\n",
       "      <th>Original_tweet</th>\n",
       "      <th>User_id</th>\n",
       "      <th>Content</th>\n",
       "      <th>Retweet_count</th>\n",
       "      <th>Fetched</th>\n",
       "    </tr>\n",
       "  </thead>\n",
       "  <tbody>\n",
       "    <tr>\n",
       "      <th>0</th>\n",
       "      <td>1289353890442272768</td>\n",
       "      <td>positive</td>\n",
       "      <td>0.888840</td>\n",
       "      <td>1.620757</td>\n",
       "      <td>0.525604</td>\n",
       "      <td>2020-08-01 00:14:57</td>\n",
       "      <td></td>\n",
       "      <td>2295.0</td>\n",
       "      <td>1.289010e+18</td>\n",
       "      <td>8.104014e+07</td>\n",
       "      <td>I can’t wait till he recommends we all wear ea...</td>\n",
       "      <td>257.0</td>\n",
       "      <td>Yes</td>\n",
       "    </tr>\n",
       "    <tr>\n",
       "      <th>1</th>\n",
       "      <td>1289350127723794432</td>\n",
       "      <td>negative</td>\n",
       "      <td>1.411669</td>\n",
       "      <td>-1.258611</td>\n",
       "      <td>3.018710</td>\n",
       "      <td>2020-08-01 00:00:00</td>\n",
       "      <td>South Bend, IN</td>\n",
       "      <td>78.0</td>\n",
       "      <td>1.289338e+18</td>\n",
       "      <td>1.247750e+09</td>\n",
       "      <td>Let’s not mince words on this one: Americans a...</td>\n",
       "      <td>23270.0</td>\n",
       "      <td>Yes</td>\n",
       "    </tr>\n",
       "    <tr>\n",
       "      <th>2</th>\n",
       "      <td>1289350127870599168</td>\n",
       "      <td>neutral</td>\n",
       "      <td>2.538646</td>\n",
       "      <td>-0.366083</td>\n",
       "      <td>0.846590</td>\n",
       "      <td>2020-08-01 00:00:00</td>\n",
       "      <td></td>\n",
       "      <td>151.0</td>\n",
       "      <td>1.289192e+18</td>\n",
       "      <td>2.508485e+09</td>\n",
       "      <td>Congressional hearings on Covid open up with C...</td>\n",
       "      <td>8425.0</td>\n",
       "      <td>Yes</td>\n",
       "    </tr>\n",
       "    <tr>\n",
       "      <th>3</th>\n",
       "      <td>1289350127879036931</td>\n",
       "      <td>negative</td>\n",
       "      <td>0.814333</td>\n",
       "      <td>-0.118949</td>\n",
       "      <td>2.254941</td>\n",
       "      <td>2020-08-01 00:00:00</td>\n",
       "      <td>Arkansas, USA and Namibia</td>\n",
       "      <td>121.0</td>\n",
       "      <td>1.289265e+18</td>\n",
       "      <td>1.830628e+08</td>\n",
       "      <td>The fake news media doesn't want you to see th...</td>\n",
       "      <td>31060.0</td>\n",
       "      <td>Yes</td>\n",
       "    </tr>\n",
       "    <tr>\n",
       "      <th>4</th>\n",
       "      <td>1289350127988047873</td>\n",
       "      <td>negative</td>\n",
       "      <td>1.188399</td>\n",
       "      <td>-0.534379</td>\n",
       "      <td>1.751747</td>\n",
       "      <td>2020-08-01 00:00:00</td>\n",
       "      <td>Washington, DC</td>\n",
       "      <td>484.0</td>\n",
       "      <td>1.289050e+18</td>\n",
       "      <td>6.572556e+07</td>\n",
       "      <td>I cry as an epidemiologist for Herman Cain—bec...</td>\n",
       "      <td>1605.0</td>\n",
       "      <td>Yes</td>\n",
       "    </tr>\n",
       "  </tbody>\n",
       "</table>\n",
       "</div>"
      ],
      "text/plain": [
       "              Tweet_ID Sentiment_Label  Logits_Neutral  Logits_Positive  \\\n",
       "0  1289353890442272768        positive        0.888840         1.620757   \n",
       "1  1289350127723794432        negative        1.411669        -1.258611   \n",
       "2  1289350127870599168         neutral        2.538646        -0.366083   \n",
       "3  1289350127879036931        negative        0.814333        -0.118949   \n",
       "4  1289350127988047873        negative        1.188399        -0.534379   \n",
       "\n",
       "   Logits_Negative           Created_at                    location  \\\n",
       "0         0.525604  2020-08-01 00:14:57                               \n",
       "1         3.018710  2020-08-01 00:00:00              South Bend, IN   \n",
       "2         0.846590  2020-08-01 00:00:00                               \n",
       "3         2.254941  2020-08-01 00:00:00  Arkansas, USA and Namibia    \n",
       "4         1.751747  2020-08-01 00:00:00              Washington, DC   \n",
       "\n",
       "   followers_count  Original_tweet       User_id  \\\n",
       "0           2295.0    1.289010e+18  8.104014e+07   \n",
       "1             78.0    1.289338e+18  1.247750e+09   \n",
       "2            151.0    1.289192e+18  2.508485e+09   \n",
       "3            121.0    1.289265e+18  1.830628e+08   \n",
       "4            484.0    1.289050e+18  6.572556e+07   \n",
       "\n",
       "                                             Content  Retweet_count Fetched  \n",
       "0  I can’t wait till he recommends we all wear ea...          257.0     Yes  \n",
       "1  Let’s not mince words on this one: Americans a...        23270.0     Yes  \n",
       "2  Congressional hearings on Covid open up with C...         8425.0     Yes  \n",
       "3  The fake news media doesn't want you to see th...        31060.0     Yes  \n",
       "4  I cry as an epidemiologist for Herman Cain—bec...         1605.0     Yes  "
      ]
     },
     "execution_count": 12,
     "metadata": {},
     "output_type": "execute_result"
    }
   ],
   "source": [
    "retweet.head()"
   ]
  },
  {
   "cell_type": "code",
   "execution_count": 15,
   "metadata": {},
   "outputs": [
    {
     "data": {
      "text/plain": [
       "<AxesSubplot:xlabel='Retweet_count', ylabel='Logits_Neutral'>"
      ]
     },
     "execution_count": 15,
     "metadata": {},
     "output_type": "execute_result"
    },
    {
     "data": {
      "image/png": "[encoded data removed]",
      "text/plain": [
       "<Figure size 432x288 with 1 Axes>"
      ]
     },
     "metadata": {
      "needs_background": "light"
     },
     "output_type": "display_data"
    }
   ],
   "source": [
    "sns.histplot(data=retweet, x=\"Retweet_count\", y=\"Logits_Neutral\")\r\n"
   ]
  },
  {
   "cell_type": "code",
   "execution_count": 19,
   "metadata": {},
   "outputs": [
    {
     "data": {
      "text/plain": [
       "<AxesSubplot:xlabel='Retweet_count', ylabel='Logits_Negative'>"
      ]
     },
     "execution_count": 19,
     "metadata": {},
     "output_type": "execute_result"
    },
    {
     "data": {
      "image/png": "[encoded data removed]",
      "text/plain": [
       "<Figure size 432x288 with 1 Axes>"
      ]
     },
     "metadata": {
      "needs_background": "light"
     },
     "output_type": "display_data"
    }
   ],
   "source": [
    "sns.scatterplot(data=retweet, x=\"Retweet_count\", y=\"Logits_Negative\")"
   ]
  },
  {
   "cell_type": "code",
   "execution_count": 35,
   "metadata": {},
   "outputs": [
    {
     "data": {
      "text/plain": [
       "<AxesSubplot:xlabel='Sentiment_Label', ylabel='Retweet_count'>"
      ]
     },
     "execution_count": 35,
     "metadata": {},
     "output_type": "execute_result"
    },
    {
     "data": {
      "image/png": "[encoded data removed]",
      "text/plain": [
       "<Figure size 2160x1080 with 1 Axes>"
      ]
     },
     "metadata": {
      "needs_background": "light"
     },
     "output_type": "display_data"
    }
   ],
   "source": [
    "fig, axes = plt.subplots(figsize=(30,15))\r\n",
    "plt.ylim(1, 50000)\r\n",
    "sns.boxplot(data=retweet, x=\"Sentiment_Label\", y=\"Retweet_count\", ax =axes)"
   ]
  },
  {
   "cell_type": "markdown",
   "metadata": {},
   "source": [
    "### If we only consider tweets that will not be trending"
   ]
  },
  {
   "cell_type": "code",
   "execution_count": 40,
   "metadata": {},
   "outputs": [
    {
     "data": {
      "text/plain": [
       "<AxesSubplot:xlabel='Sentiment_Label', ylabel='Retweet_count'>"
      ]
     },
     "execution_count": 40,
     "metadata": {},
     "output_type": "execute_result"
    },
    {
     "data": {
      "image/png": "[encoded data removed]",
      "text/plain": [
       "<Figure size 2160x1080 with 1 Axes>"
      ]
     },
     "metadata": {
      "needs_background": "light"
     },
     "output_type": "display_data"
    }
   ],
   "source": [
    "fig, axes = plt.subplots(figsize=(30,15))\r\n",
    "plt.ylim(1, 1250)\r\n",
    "sns.boxplot(data=retweet.loc[retweet['Retweet_count'] < 1250], x =\"Sentiment_Label\", y=\"Retweet_count\", ax =axes)"
   ]
  }
 ],
 "metadata": {
  "interpreter": {
   "hash": "20db2249124e18b25fff58d0fcb4d34b9c3f3ad3725b69b3380f71d10fc6b82a"
  },
  "kernelspec": {
   "display_name": "Python 3.8.10 64-bit ('BigData': conda)",
   "name": "python3"
  },
  "language_info": {
   "codemirror_mode": {
    "name": "ipython",
    "version": 3
   },
   "file_extension": ".py",
   "mimetype": "text/x-python",
   "name": "python",
   "nbconvert_exporter": "python",
   "pygments_lexer": "ipython3",
   "version": "3.8.10"
  },
  "orig_nbformat": 3
 },
 "nbformat": 4,
 "nbformat_minor": 2
}